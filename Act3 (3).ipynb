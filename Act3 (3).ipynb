{
 "cells": [
  {
   "cell_type": "markdown",
   "id": "13e24540-d0c7-47e4-8196-1b450a3d618e",
   "metadata": {},
   "source": [
    "# Actividad 3\n",
    "\n",
    "**Parte I**\n",
    "Transformación del tipo de dato.\r\n",
    "Cruce de tablas.\r\n",
    "Filtro de variables por algún tipo de criteri\n",
    "\n",
    "Recomendaciones\n",
    "Cargar la base de datos dada y empezar a revisar las variables.\r\n",
    "Determinar el tipo de cada una de las variables.\r\n",
    "Aplicar las funciones revisadas, según cada tipo de variable.\r\n",
    "Realizar la limpieza de la variable NIT proveedor.\r\n",
    "Transformar la variable del Nit.\r\n",
    "Cruzar las bases de SECOP I con la del SECOP II.\r\n",
    "Realizar un informe sobre las variables que se explo\n",
    "\n",
    "**Parte II**\n",
    "\n",
    "Identificación y alguna transformación del tipo de dato.\r\n",
    "Filtro de variables por algún tipo de criterio.\r\n",
    "Utilizar al menos 2 tipos de gráficos para variables seleccionadas\n",
    "\r\n",
    "Cargar la base de datos dada y empezar a revisar las variables.\r\n",
    "Determinar el tipo de cada una de las variables.\r\n",
    "Aplicar las funciones revisadas, para la transformación del dato y cambiar su tipo.\r\n",
    "Realizar filtros de tablas requeridos.\r\n",
    "Realizar las gráficas de algunas variables seleccions.\r\n",
    " . aron. o.\n"
   ]
  },
  {
   "cell_type": "markdown",
   "id": "694b5d02-d6df-47ad-8b8b-4bff3799cdfa",
   "metadata": {},
   "source": [
    "# PARTE I"
   ]
  },
  {
   "cell_type": "markdown",
   "id": "e3052c38-08a4-440a-aa4f-78acd9580097",
   "metadata": {},
   "source": [
    "## 1. Importar librerías de Pandas"
   ]
  },
  {
   "cell_type": "code",
   "execution_count": 387,
   "id": "ae1627ac-fecb-4b36-bacc-782baf08ef69",
   "metadata": {},
   "outputs": [],
   "source": [
    "#Las librerias son modulos de python que contienen funciones y objetos que pueden ser utilizados para realizar tareas específicas. En este caso, las librerias matplotlib, seaborn y plotly son librerias de visualización de datos. Cada vez que se inicializa el entorno de ejecución, es necesario volver a cargar todas las librerias que se van a utilizar en el notebook.\n",
    "import pandas as pd\n",
    "import matplotlib.pyplot as plt\n",
    "import seaborn as sns\n",
    "import numpy as np"
   ]
  },
  {
   "cell_type": "markdown",
   "id": "7bf381c8-06a5-4e82-a7ba-c50595f28b0f",
   "metadata": {},
   "source": [
    "## 2. Cargar base de datos"
   ]
  },
  {
   "cell_type": "code",
   "execution_count": 390,
   "id": "89e8f04b-6edf-4808-a40f-034a1a211e74",
   "metadata": {},
   "outputs": [
    {
     "data": {
      "text/html": [
       "<div>\n",
       "<style scoped>\n",
       "    .dataframe tbody tr th:only-of-type {\n",
       "        vertical-align: middle;\n",
       "    }\n",
       "\n",
       "    .dataframe tbody tr th {\n",
       "        vertical-align: top;\n",
       "    }\n",
       "\n",
       "    .dataframe thead th {\n",
       "        text-align: right;\n",
       "    }\n",
       "</style>\n",
       "<table border=\"1\" class=\"dataframe\">\n",
       "  <thead>\n",
       "    <tr style=\"text-align: right;\">\n",
       "      <th></th>\n",
       "      <th>identificador_paa</th>\n",
       "      <th>codigo_entidad</th>\n",
       "      <th>nombre_entidad</th>\n",
       "      <th>nit_entidad</th>\n",
       "      <th>anno_paa</th>\n",
       "      <th>direccion_entidad</th>\n",
       "      <th>telefono_entidad</th>\n",
       "      <th>mision_y_vision</th>\n",
       "      <th>perspectiva_estrategica</th>\n",
       "      <th>info_contacto</th>\n",
       "      <th>ppto_total</th>\n",
       "      <th>limite_menor_cuantia</th>\n",
       "      <th>limite_minima_cuantia</th>\n",
       "      <th>fecha_ultima_actualizacion</th>\n",
       "      <th>fecha_cargue</th>\n",
       "      <th>municipio_paa</th>\n",
       "      <th>departamento_paa</th>\n",
       "      <th>localidad_paa</th>\n",
       "      <th>codigo_municipio</th>\n",
       "    </tr>\n",
       "  </thead>\n",
       "  <tbody>\n",
       "    <tr>\n",
       "      <th>0</th>\n",
       "      <td>303062</td>\n",
       "      <td>28500134</td>\n",
       "      <td>CASANARE  ESE HOSPITAL DE YOPAL !</td>\n",
       "      <td>891855029</td>\n",
       "      <td>2022</td>\n",
       "      <td>Calle 15 N 795 Manzana L via marginal de la selva</td>\n",
       "      <td>6344699</td>\n",
       "      <td>MisionEl Hospital Regional de la Orinoquia es ...</td>\n",
       "      <td>el Hospital Regional de la Orinoqua ESE se con...</td>\n",
       "      <td>Almacen Hospital Regional de la Orinoquia Cont...</td>\n",
       "      <td>126898133557</td>\n",
       "      <td>NaN</td>\n",
       "      <td>$nan</td>\n",
       "      <td>12/31/21</td>\n",
       "      <td>2022-01-31T11:53:47.000</td>\n",
       "      <td>Yopal</td>\n",
       "      <td>Casanare</td>\n",
       "      <td>PLAN UNICO</td>\n",
       "      <td>85001</td>\n",
       "    </tr>\n",
       "  </tbody>\n",
       "</table>\n",
       "</div>"
      ],
      "text/plain": [
       "   identificador_paa  codigo_entidad                        nombre_entidad  \\\n",
       "0             303062        28500134    CASANARE  ESE HOSPITAL DE YOPAL !    \n",
       "\n",
       "  nit_entidad  anno_paa                                  direccion_entidad  \\\n",
       "0   891855029      2022  Calle 15 N 795 Manzana L via marginal de la selva   \n",
       "\n",
       "  telefono_entidad                                    mision_y_vision  \\\n",
       "0          6344699  MisionEl Hospital Regional de la Orinoquia es ...   \n",
       "\n",
       "                             perspectiva_estrategica  \\\n",
       "0  el Hospital Regional de la Orinoqua ESE se con...   \n",
       "\n",
       "                                       info_contacto    ppto_total  \\\n",
       "0  Almacen Hospital Regional de la Orinoquia Cont...  126898133557   \n",
       "\n",
       "  limite_menor_cuantia limite_minima_cuantia fecha_ultima_actualizacion  \\\n",
       "0                  NaN                  $nan                   12/31/21   \n",
       "\n",
       "              fecha_cargue municipio_paa departamento_paa localidad_paa  \\\n",
       "0  2022-01-31T11:53:47.000         Yopal         Casanare    PLAN UNICO   \n",
       "\n",
       "   codigo_municipio  \n",
       "0             85001  "
      ]
     },
     "execution_count": 390,
     "metadata": {},
     "output_type": "execute_result"
    }
   ],
   "source": [
    "df1 = pd.read_csv('D:/Acer/Download/datos_secop_I_modified.csv')\n",
    "df1.shape\n",
    "df1.head(1)"
   ]
  },
  {
   "cell_type": "code",
   "execution_count": 392,
   "id": "750a8e31-5d86-49d2-8f8a-fca5d52c15b8",
   "metadata": {},
   "outputs": [
    {
     "data": {
      "text/html": [
       "<div>\n",
       "<style scoped>\n",
       "    .dataframe tbody tr th:only-of-type {\n",
       "        vertical-align: middle;\n",
       "    }\n",
       "\n",
       "    .dataframe tbody tr th {\n",
       "        vertical-align: top;\n",
       "    }\n",
       "\n",
       "    .dataframe thead th {\n",
       "        text-align: right;\n",
       "    }\n",
       "</style>\n",
       "<table border=\"1\" class=\"dataframe\">\n",
       "  <thead>\n",
       "    <tr style=\"text-align: right;\">\n",
       "      <th></th>\n",
       "      <th>identificador_unico</th>\n",
       "      <th>id_plan_anual_de_adquisiciones</th>\n",
       "      <th>anno</th>\n",
       "      <th>nit_entidad</th>\n",
       "      <th>nombre_entidad</th>\n",
       "      <th>mision_vision</th>\n",
       "      <th>perspectiva_estrategica</th>\n",
       "      <th>nombre_contacto</th>\n",
       "      <th>telefono_contacto</th>\n",
       "      <th>correo_contacto</th>\n",
       "      <th>...</th>\n",
       "      <th>presupuesto_menor_cuantia</th>\n",
       "      <th>presupuesto_minima_cuantia</th>\n",
       "      <th>fecha_de_publicacion</th>\n",
       "      <th>fecha_de_creacion</th>\n",
       "      <th>fecha_de_ultima_modificacion</th>\n",
       "      <th>version</th>\n",
       "      <th>identificador_requerimiento_compra</th>\n",
       "      <th>estado</th>\n",
       "      <th>departamento_paa</th>\n",
       "      <th>municipio_paa</th>\n",
       "    </tr>\n",
       "  </thead>\n",
       "  <tbody>\n",
       "    <tr>\n",
       "      <th>0</th>\n",
       "      <td>CO1.APP.2041264</td>\n",
       "      <td>MarketplaceCO1538159</td>\n",
       "      <td>2024</td>\n",
       "      <td>721520377</td>\n",
       "      <td>INSTITUCION EDUCATIVA AGROPECUARIA MAXIMO GOMEZ</td>\n",
       "      <td>MISION 2023 2026 La Institucin Educativa Agrop...</td>\n",
       "      <td>Ser una institucin destacada por sus estrategi...</td>\n",
       "      <td>MARIA EUGENIA LEDESMA LLANTEN</td>\n",
       "      <td>3104661182</td>\n",
       "      <td>mariaeugenia.maestra@gmail.com</td>\n",
       "      <td>...</td>\n",
       "      <td>$26000000.0</td>\n",
       "      <td>$2600000.0</td>\n",
       "      <td>2024-07-31 03:47:42.6041815</td>\n",
       "      <td>2024-08-23 07:11:00.0000000</td>\n",
       "      <td>2024-08-22 20:32:26.391947400</td>\n",
       "      <td>2</td>\n",
       "      <td>CO1.PPI.33807381</td>\n",
       "      <td>Borrador</td>\n",
       "      <td>Cauca</td>\n",
       "      <td>Cajibío</td>\n",
       "    </tr>\n",
       "  </tbody>\n",
       "</table>\n",
       "<p>1 rows × 21 columns</p>\n",
       "</div>"
      ],
      "text/plain": [
       "  identificador_unico id_plan_anual_de_adquisiciones  anno nit_entidad  \\\n",
       "0     CO1.APP.2041264           MarketplaceCO1538159  2024   721520377   \n",
       "\n",
       "                                    nombre_entidad  \\\n",
       "0  INSTITUCION EDUCATIVA AGROPECUARIA MAXIMO GOMEZ   \n",
       "\n",
       "                                       mision_vision  \\\n",
       "0  MISION 2023 2026 La Institucin Educativa Agrop...   \n",
       "\n",
       "                             perspectiva_estrategica  \\\n",
       "0  Ser una institucin destacada por sus estrategi...   \n",
       "\n",
       "                 nombre_contacto telefono_contacto  \\\n",
       "0  MARIA EUGENIA LEDESMA LLANTEN        3104661182   \n",
       "\n",
       "                  correo_contacto  ... presupuesto_menor_cuantia  \\\n",
       "0  mariaeugenia.maestra@gmail.com  ...               $26000000.0   \n",
       "\n",
       "  presupuesto_minima_cuantia         fecha_de_publicacion  \\\n",
       "0                 $2600000.0  2024-07-31 03:47:42.6041815   \n",
       "\n",
       "             fecha_de_creacion   fecha_de_ultima_modificacion version  \\\n",
       "0  2024-08-23 07:11:00.0000000  2024-08-22 20:32:26.391947400       2   \n",
       "\n",
       "   identificador_requerimiento_compra    estado departamento_paa municipio_paa  \n",
       "0                    CO1.PPI.33807381  Borrador            Cauca       Cajibío  \n",
       "\n",
       "[1 rows x 21 columns]"
      ]
     },
     "execution_count": 392,
     "metadata": {},
     "output_type": "execute_result"
    }
   ],
   "source": [
    "df2 = pd.read_csv('D:/Acer/Download/datos_secov_II_modified.csv',sep=';',encoding='latin-1')\n",
    "df2.shape\n",
    "df2.head(1)"
   ]
  },
  {
   "cell_type": "markdown",
   "id": "53609254-5d6a-49ea-935f-d45055d4c7df",
   "metadata": {},
   "source": [
    "## 3. Determinar el tipo de variables"
   ]
  },
  {
   "cell_type": "code",
   "execution_count": 395,
   "id": "64c6f9c2-8119-4538-aa5a-96500b6f1161",
   "metadata": {},
   "outputs": [
    {
     "name": "stdout",
     "output_type": "stream",
     "text": [
      "<class 'pandas.core.frame.DataFrame'>\n",
      "RangeIndex: 1000 entries, 0 to 999\n",
      "Data columns (total 19 columns):\n",
      " #   Column                      Non-Null Count  Dtype \n",
      "---  ------                      --------------  ----- \n",
      " 0   identificador_paa           1000 non-null   int64 \n",
      " 1   codigo_entidad              1000 non-null   int64 \n",
      " 2   nombre_entidad              1000 non-null   object\n",
      " 3   nit_entidad                 1000 non-null   object\n",
      " 4   anno_paa                    1000 non-null   int64 \n",
      " 5   direccion_entidad           1000 non-null   object\n",
      " 6   telefono_entidad            1000 non-null   object\n",
      " 7   mision_y_vision             997 non-null    object\n",
      " 8   perspectiva_estrategica     950 non-null    object\n",
      " 9   info_contacto               998 non-null    object\n",
      " 10  ppto_total                  998 non-null    object\n",
      " 11  limite_menor_cuantia        990 non-null    object\n",
      " 12  limite_minima_cuantia       990 non-null    object\n",
      " 13  fecha_ultima_actualizacion  989 non-null    object\n",
      " 14  fecha_cargue                1000 non-null   object\n",
      " 15  municipio_paa               1000 non-null   object\n",
      " 16  departamento_paa            1000 non-null   object\n",
      " 17  localidad_paa               1000 non-null   object\n",
      " 18  codigo_municipio            1000 non-null   int64 \n",
      "dtypes: int64(4), object(15)\n",
      "memory usage: 148.6+ KB\n"
     ]
    }
   ],
   "source": [
    "df1.info()"
   ]
  },
  {
   "cell_type": "code",
   "execution_count": 397,
   "id": "852a5c35-582d-4ced-8be1-dd7715a2e1d9",
   "metadata": {},
   "outputs": [
    {
     "name": "stdout",
     "output_type": "stream",
     "text": [
      "<class 'pandas.core.frame.DataFrame'>\n",
      "RangeIndex: 1000 entries, 0 to 999\n",
      "Data columns (total 21 columns):\n",
      " #   Column                              Non-Null Count  Dtype \n",
      "---  ------                              --------------  ----- \n",
      " 0   identificador_unico                 1000 non-null   object\n",
      " 1   id_plan_anual_de_adquisiciones      1000 non-null   object\n",
      " 2   anno                                1000 non-null   int64 \n",
      " 3   nit_entidad                         1000 non-null   object\n",
      " 4   nombre_entidad                      1000 non-null   object\n",
      " 5   mision_vision                       1000 non-null   object\n",
      " 6   perspectiva_estrategica             1000 non-null   object\n",
      " 7   nombre_contacto                     1000 non-null   object\n",
      " 8   telefono_contacto                   1000 non-null   object\n",
      " 9   correo_contacto                     1000 non-null   object\n",
      " 10  valor_presupuesto_general           1000 non-null   object\n",
      " 11  presupuesto_menor_cuantia           1000 non-null   object\n",
      " 12  presupuesto_minima_cuantia          1000 non-null   object\n",
      " 13  fecha_de_publicacion                1000 non-null   object\n",
      " 14  fecha_de_creacion                   1000 non-null   object\n",
      " 15  fecha_de_ultima_modificacion        1000 non-null   object\n",
      " 16  version                             1000 non-null   int64 \n",
      " 17  identificador_requerimiento_compra  1000 non-null   object\n",
      " 18  estado                              1000 non-null   object\n",
      " 19  departamento_paa                    1000 non-null   object\n",
      " 20  municipio_paa                       1000 non-null   object\n",
      "dtypes: int64(2), object(19)\n",
      "memory usage: 164.2+ KB\n"
     ]
    }
   ],
   "source": [
    "df2.info()"
   ]
  },
  {
   "cell_type": "markdown",
   "id": "c513ceab-c678-440d-b9f5-e0c8d678c4c2",
   "metadata": {},
   "source": [
    "## 4. Limpieza NIT\n",
    "\n",
    "4.1 Aplicaremos limpieza de la variable **nit_entidad** para realizar merge y limpiar las bases ya unificadas\n",
    "\n",
    " Aplicar las funciones revisadas, según cada tipo de variable. Realizar la limpieza de la variable NIT proveedor.\n",
    "| Aplicar las funciones revisadas, para la transformación del dato y cambiar su tipo"
   ]
  },
  {
   "cell_type": "code",
   "execution_count": 400,
   "id": "e47e4df3-7868-4fda-93f6-a582dc871f39",
   "metadata": {},
   "outputs": [
    {
     "data": {
      "text/plain": [
       "0       9\n",
       "1       9\n",
       "2      11\n",
       "3       9\n",
       "4      11\n",
       "       ..\n",
       "995     9\n",
       "996     9\n",
       "997    11\n",
       "998     9\n",
       "999     9\n",
       "Name: nit_entidad, Length: 1000, dtype: int64"
      ]
     },
     "execution_count": 400,
     "metadata": {},
     "output_type": "execute_result"
    }
   ],
   "source": [
    "#Verificar longitud de la columna nit df1\n",
    "df1['nit_entidad'].str.len()"
   ]
  },
  {
   "cell_type": "code",
   "execution_count": 402,
   "id": "87587c22-f1fd-4b7b-90ef-7b41c27dba09",
   "metadata": {},
   "outputs": [
    {
     "data": {
      "text/plain": [
       "0       9\n",
       "1       9\n",
       "2       9\n",
       "3       9\n",
       "4       9\n",
       "       ..\n",
       "995    11\n",
       "996    11\n",
       "997    11\n",
       "998     9\n",
       "999     9\n",
       "Name: nit_entidad, Length: 1000, dtype: int64"
      ]
     },
     "execution_count": 402,
     "metadata": {},
     "output_type": "execute_result"
    }
   ],
   "source": [
    "#Verificar longitud de la columna nit df2\n",
    "df2['nit_entidad'].str.len()"
   ]
  },
  {
   "cell_type": "code",
   "execution_count": 404,
   "id": "10e7991a-b1fd-4f30-b51b-9dc409d71650",
   "metadata": {},
   "outputs": [],
   "source": [
    "#Definir función para limpieza de NIT\n",
    "def limpieza_nit (df: pd.DataFrame, column_name:object):\n",
    "    df[column_name]= df[column_name].str.strip()\n",
    "    df[column_name]= df[column_name].replace(\"  \",\"\")\n",
    "    df[column_name]= df[column_name].replace(\" \",\"\")\n",
    "    df[column_name]= df[column_name].replace('[^\\\\w\\\\d\\\\s\\\\.]','',regex=True)\n",
    "    df[column_name]= df[column_name].replace('$','')\n",
    "    return df\n"
   ]
  },
  {
   "cell_type": "code",
   "execution_count": 406,
   "id": "9ff321c0-9312-49e4-a015-b5274a66f2d0",
   "metadata": {},
   "outputs": [
    {
     "data": {
      "text/html": [
       "<div>\n",
       "<style scoped>\n",
       "    .dataframe tbody tr th:only-of-type {\n",
       "        vertical-align: middle;\n",
       "    }\n",
       "\n",
       "    .dataframe tbody tr th {\n",
       "        vertical-align: top;\n",
       "    }\n",
       "\n",
       "    .dataframe thead th {\n",
       "        text-align: right;\n",
       "    }\n",
       "</style>\n",
       "<table border=\"1\" class=\"dataframe\">\n",
       "  <thead>\n",
       "    <tr style=\"text-align: right;\">\n",
       "      <th></th>\n",
       "      <th>identificador_paa</th>\n",
       "      <th>codigo_entidad</th>\n",
       "      <th>nombre_entidad</th>\n",
       "      <th>nit_entidad</th>\n",
       "      <th>anno_paa</th>\n",
       "      <th>direccion_entidad</th>\n",
       "      <th>telefono_entidad</th>\n",
       "      <th>mision_y_vision</th>\n",
       "      <th>perspectiva_estrategica</th>\n",
       "      <th>info_contacto</th>\n",
       "      <th>ppto_total</th>\n",
       "      <th>limite_menor_cuantia</th>\n",
       "      <th>limite_minima_cuantia</th>\n",
       "      <th>fecha_ultima_actualizacion</th>\n",
       "      <th>fecha_cargue</th>\n",
       "      <th>municipio_paa</th>\n",
       "      <th>departamento_paa</th>\n",
       "      <th>localidad_paa</th>\n",
       "      <th>codigo_municipio</th>\n",
       "    </tr>\n",
       "  </thead>\n",
       "  <tbody>\n",
       "    <tr>\n",
       "      <th>319</th>\n",
       "      <td>281708</td>\n",
       "      <td>266088022</td>\n",
       "      <td>RISARALDA  ESE HOSPITAL SAN JOS DE BELN DE UMBRA</td>\n",
       "      <td>No Definido</td>\n",
       "      <td>2021</td>\n",
       "      <td>CRA 13  4  135</td>\n",
       "      <td>096 3528128</td>\n",
       "      <td>MISION La ESE Hospital San Jos de Beln de Umbr...</td>\n",
       "      <td>Mejorar la cobertura de nuestros servicios pri...</td>\n",
       "      <td>Juan Esteban Bernal Villa                     ...</td>\n",
       "      <td>6966705000</td>\n",
       "      <td>290728320</td>\n",
       "      <td>$290728320</td>\n",
       "      <td>7/9/21</td>\n",
       "      <td>2021-07-09T03:21:02.000</td>\n",
       "      <td>Belén de Umbría</td>\n",
       "      <td>Risaralda</td>\n",
       "      <td>UNICO PLAN</td>\n",
       "      <td>66088</td>\n",
       "    </tr>\n",
       "  </tbody>\n",
       "</table>\n",
       "</div>"
      ],
      "text/plain": [
       "     identificador_paa  codigo_entidad  \\\n",
       "319             281708       266088022   \n",
       "\n",
       "                                       nombre_entidad  nit_entidad  anno_paa  \\\n",
       "319  RISARALDA  ESE HOSPITAL SAN JOS DE BELN DE UMBRA  No Definido      2021   \n",
       "\n",
       "    direccion_entidad telefono_entidad  \\\n",
       "319    CRA 13  4  135      096 3528128   \n",
       "\n",
       "                                       mision_y_vision  \\\n",
       "319  MISION La ESE Hospital San Jos de Beln de Umbr...   \n",
       "\n",
       "                               perspectiva_estrategica  \\\n",
       "319  Mejorar la cobertura de nuestros servicios pri...   \n",
       "\n",
       "                                         info_contacto  ppto_total  \\\n",
       "319  Juan Esteban Bernal Villa                     ...  6966705000   \n",
       "\n",
       "    limite_menor_cuantia limite_minima_cuantia fecha_ultima_actualizacion  \\\n",
       "319            290728320            $290728320                     7/9/21   \n",
       "\n",
       "                fecha_cargue    municipio_paa departamento_paa localidad_paa  \\\n",
       "319  2021-07-09T03:21:02.000  Belén de Umbría        Risaralda    UNICO PLAN   \n",
       "\n",
       "     codigo_municipio  \n",
       "319             66088  "
      ]
     },
     "execution_count": 406,
     "metadata": {},
     "output_type": "execute_result"
    }
   ],
   "source": [
    "#Aplicar función df1\n",
    "limpieza_nit (df1,'nit_entidad')\n",
    "df1.sample()"
   ]
  },
  {
   "cell_type": "code",
   "execution_count": 408,
   "id": "d7771e75-3846-4516-b311-bb212dc294a9",
   "metadata": {},
   "outputs": [
    {
     "data": {
      "text/html": [
       "<div>\n",
       "<style scoped>\n",
       "    .dataframe tbody tr th:only-of-type {\n",
       "        vertical-align: middle;\n",
       "    }\n",
       "\n",
       "    .dataframe tbody tr th {\n",
       "        vertical-align: top;\n",
       "    }\n",
       "\n",
       "    .dataframe thead th {\n",
       "        text-align: right;\n",
       "    }\n",
       "</style>\n",
       "<table border=\"1\" class=\"dataframe\">\n",
       "  <thead>\n",
       "    <tr style=\"text-align: right;\">\n",
       "      <th></th>\n",
       "      <th>identificador_unico</th>\n",
       "      <th>id_plan_anual_de_adquisiciones</th>\n",
       "      <th>anno</th>\n",
       "      <th>nit_entidad</th>\n",
       "      <th>nombre_entidad</th>\n",
       "      <th>mision_vision</th>\n",
       "      <th>perspectiva_estrategica</th>\n",
       "      <th>nombre_contacto</th>\n",
       "      <th>telefono_contacto</th>\n",
       "      <th>correo_contacto</th>\n",
       "      <th>...</th>\n",
       "      <th>presupuesto_menor_cuantia</th>\n",
       "      <th>presupuesto_minima_cuantia</th>\n",
       "      <th>fecha_de_publicacion</th>\n",
       "      <th>fecha_de_creacion</th>\n",
       "      <th>fecha_de_ultima_modificacion</th>\n",
       "      <th>version</th>\n",
       "      <th>identificador_requerimiento_compra</th>\n",
       "      <th>estado</th>\n",
       "      <th>departamento_paa</th>\n",
       "      <th>municipio_paa</th>\n",
       "    </tr>\n",
       "  </thead>\n",
       "  <tbody>\n",
       "    <tr>\n",
       "      <th>763</th>\n",
       "      <td>CO1.APP.1911624</td>\n",
       "      <td>MarketplaceCO1418742</td>\n",
       "      <td>2024</td>\n",
       "      <td>7024430293</td>\n",
       "      <td>POLICIA METROPOLITANA DE IBAGUE - UPRES TOLI...</td>\n",
       "      <td>MISION  La  Direccin  de  Sanidad  tiene  como...</td>\n",
       "      <td>Perspectiva estratgica La Direccin de Sanidad ...</td>\n",
       "      <td>FERNEY ANDRES BARBOSA  MORALES</td>\n",
       "      <td>3505561156</td>\n",
       "      <td>detol.upres@correo.policia.gov.co</td>\n",
       "      <td>...</td>\n",
       "      <td>1300000000.0</td>\n",
       "      <td>130000000.0</td>\n",
       "      <td>2024-01-18 02:15:54.1774302</td>\n",
       "      <td>2024-08-09 19:40:53.0000000</td>\n",
       "      <td>2024-05-15 14:41:25.504397800</td>\n",
       "      <td>6</td>\n",
       "      <td>CO1.PPI.31508493</td>\n",
       "      <td>Publicado</td>\n",
       "      <td>Tolima</td>\n",
       "      <td>Ibagué</td>\n",
       "    </tr>\n",
       "  </tbody>\n",
       "</table>\n",
       "<p>1 rows × 21 columns</p>\n",
       "</div>"
      ],
      "text/plain": [
       "    identificador_unico id_plan_anual_de_adquisiciones  anno nit_entidad  \\\n",
       "763     CO1.APP.1911624           MarketplaceCO1418742  2024  7024430293   \n",
       "\n",
       "                                        nombre_entidad  \\\n",
       "763    POLICIA METROPOLITANA DE IBAGUE - UPRES TOLI...   \n",
       "\n",
       "                                         mision_vision  \\\n",
       "763  MISION  La  Direccin  de  Sanidad  tiene  como...   \n",
       "\n",
       "                               perspectiva_estrategica  \\\n",
       "763  Perspectiva estratgica La Direccin de Sanidad ...   \n",
       "\n",
       "                      nombre_contacto telefono_contacto  \\\n",
       "763  FERNEY ANDRES BARBOSA  MORALES          3505561156   \n",
       "\n",
       "                       correo_contacto  ... presupuesto_menor_cuantia  \\\n",
       "763  detol.upres@correo.policia.gov.co  ...              1300000000.0   \n",
       "\n",
       "    presupuesto_minima_cuantia         fecha_de_publicacion  \\\n",
       "763                130000000.0  2024-01-18 02:15:54.1774302   \n",
       "\n",
       "               fecha_de_creacion   fecha_de_ultima_modificacion version  \\\n",
       "763  2024-08-09 19:40:53.0000000  2024-05-15 14:41:25.504397800       6   \n",
       "\n",
       "     identificador_requerimiento_compra     estado departamento_paa  \\\n",
       "763                    CO1.PPI.31508493  Publicado           Tolima   \n",
       "\n",
       "    municipio_paa  \n",
       "763        Ibagué  \n",
       "\n",
       "[1 rows x 21 columns]"
      ]
     },
     "execution_count": 408,
     "metadata": {},
     "output_type": "execute_result"
    }
   ],
   "source": [
    "#Aplicar función df2\n",
    "limpieza_nit (df2,'nit_entidad')\n",
    "df2.sample(1)"
   ]
  },
  {
   "cell_type": "code",
   "execution_count": 410,
   "id": "b547fd05-1bfb-400c-a3b6-e76264247caa",
   "metadata": {},
   "outputs": [],
   "source": [
    "#Extraer los primeros 9 dígitos de la variable nit_entidad\n",
    "def extraer_9digitos(df,column_name):\n",
    "    df[column_name]=df[column_name].str[0:9]\n",
    "    return df"
   ]
  },
  {
   "cell_type": "code",
   "execution_count": 412,
   "id": "0e46dc64-0901-46e0-9cd9-e68306883d14",
   "metadata": {},
   "outputs": [
    {
     "data": {
      "text/html": [
       "<div>\n",
       "<style scoped>\n",
       "    .dataframe tbody tr th:only-of-type {\n",
       "        vertical-align: middle;\n",
       "    }\n",
       "\n",
       "    .dataframe tbody tr th {\n",
       "        vertical-align: top;\n",
       "    }\n",
       "\n",
       "    .dataframe thead th {\n",
       "        text-align: right;\n",
       "    }\n",
       "</style>\n",
       "<table border=\"1\" class=\"dataframe\">\n",
       "  <thead>\n",
       "    <tr style=\"text-align: right;\">\n",
       "      <th></th>\n",
       "      <th>identificador_paa</th>\n",
       "      <th>codigo_entidad</th>\n",
       "      <th>nombre_entidad</th>\n",
       "      <th>nit_entidad</th>\n",
       "      <th>anno_paa</th>\n",
       "      <th>direccion_entidad</th>\n",
       "      <th>telefono_entidad</th>\n",
       "      <th>mision_y_vision</th>\n",
       "      <th>perspectiva_estrategica</th>\n",
       "      <th>info_contacto</th>\n",
       "      <th>ppto_total</th>\n",
       "      <th>limite_menor_cuantia</th>\n",
       "      <th>limite_minima_cuantia</th>\n",
       "      <th>fecha_ultima_actualizacion</th>\n",
       "      <th>fecha_cargue</th>\n",
       "      <th>municipio_paa</th>\n",
       "      <th>departamento_paa</th>\n",
       "      <th>localidad_paa</th>\n",
       "      <th>codigo_municipio</th>\n",
       "    </tr>\n",
       "  </thead>\n",
       "  <tbody>\n",
       "    <tr>\n",
       "      <th>54</th>\n",
       "      <td>290130</td>\n",
       "      <td>225001122</td>\n",
       "      <td>CUNDINAMARCA  FONDO DE DESARROLLO DE PROYECTOS...</td>\n",
       "      <td>900258772</td>\n",
       "      <td>2021</td>\n",
       "      <td>5712432328</td>\n",
       "      <td>wwwfondecungovco</td>\n",
       "      <td>Son objetivos Estrategicos del Fondo de Desarr...</td>\n",
       "      <td>Son objetivos Estrategicos del Fondo de Desarr...</td>\n",
       "      <td>anietofondecungovco</td>\n",
       "      <td>$3978352340</td>\n",
       "      <td>$nan</td>\n",
       "      <td>NaN</td>\n",
       "      <td>12/31/21</td>\n",
       "      <td>2022-01-07T11:31:16.000</td>\n",
       "      <td>Bogotá D.C.</td>\n",
       "      <td>Bogotá D.C.</td>\n",
       "      <td>UNICO PLAN</td>\n",
       "      <td>1101</td>\n",
       "    </tr>\n",
       "  </tbody>\n",
       "</table>\n",
       "</div>"
      ],
      "text/plain": [
       "    identificador_paa  codigo_entidad  \\\n",
       "54             290130       225001122   \n",
       "\n",
       "                                       nombre_entidad nit_entidad  anno_paa  \\\n",
       "54  CUNDINAMARCA  FONDO DE DESARROLLO DE PROYECTOS...   900258772      2021   \n",
       "\n",
       "   direccion_entidad  telefono_entidad  \\\n",
       "54        5712432328  wwwfondecungovco   \n",
       "\n",
       "                                      mision_y_vision  \\\n",
       "54  Son objetivos Estrategicos del Fondo de Desarr...   \n",
       "\n",
       "                              perspectiva_estrategica        info_contacto  \\\n",
       "54  Son objetivos Estrategicos del Fondo de Desarr...  anietofondecungovco   \n",
       "\n",
       "     ppto_total limite_menor_cuantia limite_minima_cuantia  \\\n",
       "54  $3978352340                 $nan                   NaN   \n",
       "\n",
       "   fecha_ultima_actualizacion             fecha_cargue municipio_paa  \\\n",
       "54                   12/31/21  2022-01-07T11:31:16.000   Bogotá D.C.   \n",
       "\n",
       "   departamento_paa localidad_paa  codigo_municipio  \n",
       "54      Bogotá D.C.    UNICO PLAN              1101  "
      ]
     },
     "execution_count": 412,
     "metadata": {},
     "output_type": "execute_result"
    }
   ],
   "source": [
    "#Aplicar función extraer_9digitos df1\n",
    "extraer_9digitos (df1,'nit_entidad')\n",
    "df1.sample(1)"
   ]
  },
  {
   "cell_type": "code",
   "execution_count": 414,
   "id": "bba3cb1a-59ab-4bb1-8a7b-1f98da48fe00",
   "metadata": {},
   "outputs": [
    {
     "data": {
      "text/html": [
       "<div>\n",
       "<style scoped>\n",
       "    .dataframe tbody tr th:only-of-type {\n",
       "        vertical-align: middle;\n",
       "    }\n",
       "\n",
       "    .dataframe tbody tr th {\n",
       "        vertical-align: top;\n",
       "    }\n",
       "\n",
       "    .dataframe thead th {\n",
       "        text-align: right;\n",
       "    }\n",
       "</style>\n",
       "<table border=\"1\" class=\"dataframe\">\n",
       "  <thead>\n",
       "    <tr style=\"text-align: right;\">\n",
       "      <th></th>\n",
       "      <th>identificador_unico</th>\n",
       "      <th>id_plan_anual_de_adquisiciones</th>\n",
       "      <th>anno</th>\n",
       "      <th>nit_entidad</th>\n",
       "      <th>nombre_entidad</th>\n",
       "      <th>mision_vision</th>\n",
       "      <th>perspectiva_estrategica</th>\n",
       "      <th>nombre_contacto</th>\n",
       "      <th>telefono_contacto</th>\n",
       "      <th>correo_contacto</th>\n",
       "      <th>...</th>\n",
       "      <th>presupuesto_menor_cuantia</th>\n",
       "      <th>presupuesto_minima_cuantia</th>\n",
       "      <th>fecha_de_publicacion</th>\n",
       "      <th>fecha_de_creacion</th>\n",
       "      <th>fecha_de_ultima_modificacion</th>\n",
       "      <th>version</th>\n",
       "      <th>identificador_requerimiento_compra</th>\n",
       "      <th>estado</th>\n",
       "      <th>departamento_paa</th>\n",
       "      <th>municipio_paa</th>\n",
       "    </tr>\n",
       "  </thead>\n",
       "  <tbody>\n",
       "    <tr>\n",
       "      <th>862</th>\n",
       "      <td>CO1.APP.1369806</td>\n",
       "      <td>MarketplaceCO1216885</td>\n",
       "      <td>2022</td>\n",
       "      <td>718177322</td>\n",
       "      <td>INSTITUCION EDUCATIVA DEPARTAMENTAL RICARDO HI...</td>\n",
       "      <td>1  LA MISION DE LA IEDRICARDO HINESTROSA es de...</td>\n",
       "      <td>La IEDRICARDO HINESTROSA DAZA de LA VEGA se pr...</td>\n",
       "      <td>INSTITUCION EDUCATIVA RICARDO HINESTROZA DAZA</td>\n",
       "      <td>3226800090</td>\n",
       "      <td>iedrhida@yahoo.com</td>\n",
       "      <td>...</td>\n",
       "      <td>28000000.0</td>\n",
       "      <td>280000000.0</td>\n",
       "      <td>2022-08-24 20:43:50.9833207</td>\n",
       "      <td>2024-08-09 19:40:53.0000000</td>\n",
       "      <td>2022-12-05 01:06:55.611346900</td>\n",
       "      <td>8</td>\n",
       "      <td>CO1.PPI.22010377</td>\n",
       "      <td>Publicado</td>\n",
       "      <td>Cundinamarca</td>\n",
       "      <td>La Vega</td>\n",
       "    </tr>\n",
       "  </tbody>\n",
       "</table>\n",
       "<p>1 rows × 21 columns</p>\n",
       "</div>"
      ],
      "text/plain": [
       "    identificador_unico id_plan_anual_de_adquisiciones  anno nit_entidad  \\\n",
       "862     CO1.APP.1369806           MarketplaceCO1216885  2022   718177322   \n",
       "\n",
       "                                        nombre_entidad  \\\n",
       "862  INSTITUCION EDUCATIVA DEPARTAMENTAL RICARDO HI...   \n",
       "\n",
       "                                         mision_vision  \\\n",
       "862  1  LA MISION DE LA IEDRICARDO HINESTROSA es de...   \n",
       "\n",
       "                               perspectiva_estrategica  \\\n",
       "862  La IEDRICARDO HINESTROSA DAZA de LA VEGA se pr...   \n",
       "\n",
       "                                   nombre_contacto telefono_contacto  \\\n",
       "862  INSTITUCION EDUCATIVA RICARDO HINESTROZA DAZA        3226800090   \n",
       "\n",
       "        correo_contacto  ... presupuesto_menor_cuantia  \\\n",
       "862  iedrhida@yahoo.com  ...                28000000.0   \n",
       "\n",
       "    presupuesto_minima_cuantia         fecha_de_publicacion  \\\n",
       "862                280000000.0  2022-08-24 20:43:50.9833207   \n",
       "\n",
       "               fecha_de_creacion   fecha_de_ultima_modificacion version  \\\n",
       "862  2024-08-09 19:40:53.0000000  2022-12-05 01:06:55.611346900       8   \n",
       "\n",
       "     identificador_requerimiento_compra     estado departamento_paa  \\\n",
       "862                    CO1.PPI.22010377  Publicado     Cundinamarca   \n",
       "\n",
       "    municipio_paa  \n",
       "862       La Vega  \n",
       "\n",
       "[1 rows x 21 columns]"
      ]
     },
     "execution_count": 414,
     "metadata": {},
     "output_type": "execute_result"
    }
   ],
   "source": [
    "#Aplicar función extraer_9digitos df2\n",
    "extraer_9digitos (df2,'nit_entidad')\n",
    "df2.sample(1)"
   ]
  },
  {
   "cell_type": "code",
   "execution_count": 416,
   "id": "1dacfc57-49c8-4456-982d-4e676b4db8d9",
   "metadata": {},
   "outputs": [
    {
     "data": {
      "text/plain": [
       "0      9\n",
       "1      9\n",
       "2      9\n",
       "3      9\n",
       "4      9\n",
       "      ..\n",
       "995    9\n",
       "996    9\n",
       "997    9\n",
       "998    9\n",
       "999    9\n",
       "Name: nit_entidad, Length: 1000, dtype: int64"
      ]
     },
     "execution_count": 416,
     "metadata": {},
     "output_type": "execute_result"
    }
   ],
   "source": [
    "#Probar que quede correcto\n",
    "df1['nit_entidad'].str.len()"
   ]
  },
  {
   "cell_type": "code",
   "execution_count": 418,
   "id": "f4ee1af8-9589-43c2-8611-c357806ac69a",
   "metadata": {},
   "outputs": [
    {
     "data": {
      "text/plain": [
       "nit_entidad\n",
       "No Defini    48\n",
       "800099489     3\n",
       "892099234     3\n",
       "800095760     3\n",
       "800102801     3\n",
       "             ..\n",
       "806014388     1\n",
       "800229887     1\n",
       "821002935     1\n",
       "890706623     1\n",
       "812001531     1\n",
       "Name: count, Length: 884, dtype: int64"
      ]
     },
     "execution_count": 418,
     "metadata": {},
     "output_type": "execute_result"
    }
   ],
   "source": [
    "df1['nit_entidad'].value_counts()"
   ]
  },
  {
   "cell_type": "code",
   "execution_count": 420,
   "id": "5dc2fcf0-a7c7-4ac7-ac93-c79d66591e09",
   "metadata": {},
   "outputs": [
    {
     "data": {
      "text/plain": [
       "884"
      ]
     },
     "execution_count": 420,
     "metadata": {},
     "output_type": "execute_result"
    }
   ],
   "source": [
    "len(df1[\"nit_entidad\"].unique())"
   ]
  },
  {
   "cell_type": "markdown",
   "id": "a84d11d2-3b26-447d-8dd8-1816c48497db",
   "metadata": {},
   "source": [
    "#### Considerando que el NIT no es un identificador único para ambos Df no es posible realizar merge, por otro lado analizando las demás variables notamos que las variables listadas a continuación difieren aunque su etiqueta es similar:\n",
    "\n",
    "**identificador_paa (SECOPI)**: Código generado en la plataforma para identificar la Entidad que publica tanto los procesos como el Plan Anual de Adquisiciones 6 digítos númericos \n",
    "\n",
    "**identificador_unico SECOPII**: Identificador unico del plan anual de adquisiones 7 dígitos númericos y el texto 'C01.AP'\n",
    "\n",
    "Por tanto, realizaremos limpieza texto y númerica de ambos Df y luego escogeremos las columnas para realizar concatenar\n"
   ]
  },
  {
   "cell_type": "markdown",
   "id": "631167c3-b6b8-40aa-b716-ef4cc8af8c0c",
   "metadata": {},
   "source": [
    "## 5. Limpieza Texto "
   ]
  },
  {
   "cell_type": "markdown",
   "id": "70ac659a-1e76-4855-a850-9111c9819158",
   "metadata": {},
   "source": [
    "### 5.1 Limpieza df1"
   ]
  },
  {
   "cell_type": "code",
   "execution_count": 423,
   "id": "968acd43-fc75-406e-9ca3-9339bc1eb14b",
   "metadata": {},
   "outputs": [],
   "source": [
    "#Definir una función para limpiar variables tipo texto\n",
    "def limpieza_str (df: pd.DataFrame, column_name:object):\n",
    "    df[column_name]= df[column_name].str.strip()\n",
    "    df[column_name] =df[column_name].str.upper()\n",
    "    df[column_name]= df[column_name].replace(\"  \",\"\")\n",
    "    df[column_name]= df[column_name].replace(\" \",\"\")\n",
    "    df[column_name]= df[column_name].replace('[^\\\\w\\\\d\\\\s\\\\.]','',regex=True)\n",
    "    df[column_name]= df[column_name].replace('$','')\n",
    "    df[column_name]= df[column_name].replace('\\\\-','')\n",
    "    df[column_name]= df[column_name].str.replace('Á', 'A') ## limpieza de las tildes \n",
    "    df[column_name]= df[column_name].str.replace('É', 'E')\n",
    "    df[column_name]= df[column_name].str.replace('Í', 'I')\n",
    "    df[column_name]= df[column_name].str.replace('Ó', 'O')\n",
    "    df[column_name]= df[column_name].str.replace('Ú', 'U')\n",
    "    return df\n"
   ]
  },
  {
   "cell_type": "code",
   "execution_count": 425,
   "id": "44ebd0aa-7fd4-41dc-9ce3-23fe04e6d43d",
   "metadata": {},
   "outputs": [
    {
     "name": "stdout",
     "output_type": "stream",
     "text": [
      "['nombre_entidad', 'nit_entidad', 'direccion_entidad', 'telefono_entidad', 'mision_y_vision', 'perspectiva_estrategica', 'info_contacto', 'ppto_total', 'limite_menor_cuantia', 'limite_minima_cuantia', 'fecha_ultima_actualizacion', 'fecha_cargue', 'municipio_paa', 'departamento_paa', 'localidad_paa']\n"
     ]
    }
   ],
   "source": [
    "#Identificar las columnas tipo texto df1\n",
    "columnas_str = df1.select_dtypes(include=['object']).columns.tolist()\n",
    "print(columnas_str)"
   ]
  },
  {
   "cell_type": "code",
   "execution_count": 427,
   "id": "20936f9c-b84b-449a-a1f5-d14efebb290f",
   "metadata": {},
   "outputs": [
    {
     "data": {
      "text/html": [
       "<div>\n",
       "<style scoped>\n",
       "    .dataframe tbody tr th:only-of-type {\n",
       "        vertical-align: middle;\n",
       "    }\n",
       "\n",
       "    .dataframe tbody tr th {\n",
       "        vertical-align: top;\n",
       "    }\n",
       "\n",
       "    .dataframe thead th {\n",
       "        text-align: right;\n",
       "    }\n",
       "</style>\n",
       "<table border=\"1\" class=\"dataframe\">\n",
       "  <thead>\n",
       "    <tr style=\"text-align: right;\">\n",
       "      <th></th>\n",
       "      <th>identificador_paa</th>\n",
       "      <th>codigo_entidad</th>\n",
       "      <th>nombre_entidad</th>\n",
       "      <th>nit_entidad</th>\n",
       "      <th>anno_paa</th>\n",
       "      <th>direccion_entidad</th>\n",
       "      <th>telefono_entidad</th>\n",
       "      <th>mision_y_vision</th>\n",
       "      <th>perspectiva_estrategica</th>\n",
       "      <th>info_contacto</th>\n",
       "      <th>ppto_total</th>\n",
       "      <th>limite_menor_cuantia</th>\n",
       "      <th>limite_minima_cuantia</th>\n",
       "      <th>fecha_ultima_actualizacion</th>\n",
       "      <th>fecha_cargue</th>\n",
       "      <th>municipio_paa</th>\n",
       "      <th>departamento_paa</th>\n",
       "      <th>localidad_paa</th>\n",
       "      <th>codigo_municipio</th>\n",
       "    </tr>\n",
       "  </thead>\n",
       "  <tbody>\n",
       "    <tr>\n",
       "      <th>109</th>\n",
       "      <td>284798</td>\n",
       "      <td>268307019</td>\n",
       "      <td>SANTANDER  INSTITUTO MIGUEL SNCHEZ HINESTROZA</td>\n",
       "      <td>804009377</td>\n",
       "      <td>2021</td>\n",
       "      <td>VEREDA ACAPULCO RUITOQUE</td>\n",
       "      <td>3114402219</td>\n",
       "      <td>MISINEL INSTITUTO MIGUEL SNCHEZ HINESTROZA ES ...</td>\n",
       "      <td>EN EL COLEGIO MIGUEL SANCHEZ TENEMOS COMO POLI...</td>\n",
       "      <td>HUGO AGUILAR RODRIGUEZ</td>\n",
       "      <td>8163267674</td>\n",
       "      <td>20 SMMLV</td>\n",
       "      <td>20 SMMLV</td>\n",
       "      <td>8/31/21</td>\n",
       "      <td>2021-09-02T11:21:01.000</td>\n",
       "      <td>GIRON</td>\n",
       "      <td>SANTANDER</td>\n",
       "      <td>UNICO PLAN</td>\n",
       "      <td>68307</td>\n",
       "    </tr>\n",
       "  </tbody>\n",
       "</table>\n",
       "</div>"
      ],
      "text/plain": [
       "     identificador_paa  codigo_entidad  \\\n",
       "109             284798       268307019   \n",
       "\n",
       "                                    nombre_entidad nit_entidad  anno_paa  \\\n",
       "109  SANTANDER  INSTITUTO MIGUEL SNCHEZ HINESTROZA   804009377      2021   \n",
       "\n",
       "            direccion_entidad telefono_entidad  \\\n",
       "109  VEREDA ACAPULCO RUITOQUE       3114402219   \n",
       "\n",
       "                                       mision_y_vision  \\\n",
       "109  MISINEL INSTITUTO MIGUEL SNCHEZ HINESTROZA ES ...   \n",
       "\n",
       "                               perspectiva_estrategica  \\\n",
       "109  EN EL COLEGIO MIGUEL SANCHEZ TENEMOS COMO POLI...   \n",
       "\n",
       "              info_contacto  ppto_total limite_menor_cuantia  \\\n",
       "109  HUGO AGUILAR RODRIGUEZ  8163267674             20 SMMLV   \n",
       "\n",
       "    limite_minima_cuantia fecha_ultima_actualizacion             fecha_cargue  \\\n",
       "109              20 SMMLV                    8/31/21  2021-09-02T11:21:01.000   \n",
       "\n",
       "    municipio_paa departamento_paa localidad_paa  codigo_municipio  \n",
       "109         GIRON        SANTANDER    UNICO PLAN             68307  "
      ]
     },
     "execution_count": 427,
     "metadata": {},
     "output_type": "execute_result"
    }
   ],
   "source": [
    "limpieza_str (df1,'nombre_entidad')\n",
    "limpieza_str (df1,'direccion_entidad')\n",
    "limpieza_str (df1,'telefono_entidad')\n",
    "limpieza_str (df1,'mision_y_vision')\n",
    "limpieza_str (df1,'perspectiva_estrategica')\n",
    "limpieza_str (df1,'info_contacto')\n",
    "limpieza_str (df1,'ppto_total')\n",
    "limpieza_str (df1,'limite_menor_cuantia')\n",
    "limpieza_str (df1,'limite_minima_cuantia')\n",
    "limpieza_str (df1,'municipio_paa')\n",
    "limpieza_str (df1,'departamento_paa')\n",
    "limpieza_str (df1,'localidad_paa')\n",
    "df1.sample(1)"
   ]
  },
  {
   "cell_type": "markdown",
   "id": "1a5cecd0-661d-4b0d-830b-20df2998adae",
   "metadata": {},
   "source": [
    "### 5.2 Limpieza df2"
   ]
  },
  {
   "cell_type": "code",
   "execution_count": 430,
   "id": "7cede54e-e66a-4553-875e-62e13b0b4d24",
   "metadata": {},
   "outputs": [
    {
     "name": "stdout",
     "output_type": "stream",
     "text": [
      "['identificador_unico', 'id_plan_anual_de_adquisiciones', 'nit_entidad', 'nombre_entidad', 'mision_vision', 'perspectiva_estrategica', 'nombre_contacto', 'telefono_contacto', 'correo_contacto', 'valor_presupuesto_general', 'presupuesto_menor_cuantia', 'presupuesto_minima_cuantia', 'fecha_de_publicacion', 'fecha_de_creacion', 'fecha_de_ultima_modificacion', 'identificador_requerimiento_compra', 'estado', 'departamento_paa', 'municipio_paa']\n"
     ]
    }
   ],
   "source": [
    "#Identificar las columnas tipo texto df2\n",
    "columnas_str2 = df2.select_dtypes(include=['object']).columns.tolist()\n",
    "print(columnas_str2)"
   ]
  },
  {
   "cell_type": "code",
   "execution_count": 432,
   "id": "484298fd-3022-474f-b892-411fb8ba6546",
   "metadata": {},
   "outputs": [
    {
     "data": {
      "text/html": [
       "<div>\n",
       "<style scoped>\n",
       "    .dataframe tbody tr th:only-of-type {\n",
       "        vertical-align: middle;\n",
       "    }\n",
       "\n",
       "    .dataframe tbody tr th {\n",
       "        vertical-align: top;\n",
       "    }\n",
       "\n",
       "    .dataframe thead th {\n",
       "        text-align: right;\n",
       "    }\n",
       "</style>\n",
       "<table border=\"1\" class=\"dataframe\">\n",
       "  <thead>\n",
       "    <tr style=\"text-align: right;\">\n",
       "      <th></th>\n",
       "      <th>identificador_unico</th>\n",
       "      <th>id_plan_anual_de_adquisiciones</th>\n",
       "      <th>anno</th>\n",
       "      <th>nit_entidad</th>\n",
       "      <th>nombre_entidad</th>\n",
       "      <th>mision_vision</th>\n",
       "      <th>perspectiva_estrategica</th>\n",
       "      <th>nombre_contacto</th>\n",
       "      <th>telefono_contacto</th>\n",
       "      <th>correo_contacto</th>\n",
       "      <th>...</th>\n",
       "      <th>presupuesto_menor_cuantia</th>\n",
       "      <th>presupuesto_minima_cuantia</th>\n",
       "      <th>fecha_de_publicacion</th>\n",
       "      <th>fecha_de_creacion</th>\n",
       "      <th>fecha_de_ultima_modificacion</th>\n",
       "      <th>version</th>\n",
       "      <th>identificador_requerimiento_compra</th>\n",
       "      <th>estado</th>\n",
       "      <th>departamento_paa</th>\n",
       "      <th>municipio_paa</th>\n",
       "    </tr>\n",
       "  </thead>\n",
       "  <tbody>\n",
       "    <tr>\n",
       "      <th>97</th>\n",
       "      <td>CO1.APP.2040608</td>\n",
       "      <td>MARKETPLACECO1421958</td>\n",
       "      <td>2024</td>\n",
       "      <td>701159162</td>\n",
       "      <td>INSTITUCION EDUCATIVA NORMAL SUPERIOR SANTIAGO...</td>\n",
       "      <td>FORMAR MAESTROS DE EXCELENTE CALIDAD HUMANA PE...</td>\n",
       "      <td>OFRECER UN EXCELENTE SERVICIO EDUCATIVO NORMAL...</td>\n",
       "      <td>ORLANDO HOYOS AUSECHA</td>\n",
       "      <td>3364797</td>\n",
       "      <td>TESORERIANORMALSANTIAGODECALIGMAIL.COM</td>\n",
       "      <td>...</td>\n",
       "      <td>585000000.0</td>\n",
       "      <td>58500000.0</td>\n",
       "      <td>2024-01-23 17:47:07.4339209</td>\n",
       "      <td>2024-08-23 07:11:00.0000000</td>\n",
       "      <td>2024-08-22 03:57:04.210489000</td>\n",
       "      <td>22</td>\n",
       "      <td>CO1.PPI.33791627</td>\n",
       "      <td>PUBLICADO</td>\n",
       "      <td>VALLE DEL CAUCA</td>\n",
       "      <td>CALI</td>\n",
       "    </tr>\n",
       "  </tbody>\n",
       "</table>\n",
       "<p>1 rows × 21 columns</p>\n",
       "</div>"
      ],
      "text/plain": [
       "   identificador_unico id_plan_anual_de_adquisiciones  anno nit_entidad  \\\n",
       "97     CO1.APP.2040608           MARKETPLACECO1421958  2024   701159162   \n",
       "\n",
       "                                       nombre_entidad  \\\n",
       "97  INSTITUCION EDUCATIVA NORMAL SUPERIOR SANTIAGO...   \n",
       "\n",
       "                                        mision_vision  \\\n",
       "97  FORMAR MAESTROS DE EXCELENTE CALIDAD HUMANA PE...   \n",
       "\n",
       "                              perspectiva_estrategica        nombre_contacto  \\\n",
       "97  OFRECER UN EXCELENTE SERVICIO EDUCATIVO NORMAL...  ORLANDO HOYOS AUSECHA   \n",
       "\n",
       "   telefono_contacto                         correo_contacto  ...  \\\n",
       "97           3364797  TESORERIANORMALSANTIAGODECALIGMAIL.COM  ...   \n",
       "\n",
       "   presupuesto_menor_cuantia presupuesto_minima_cuantia  \\\n",
       "97               585000000.0                 58500000.0   \n",
       "\n",
       "           fecha_de_publicacion            fecha_de_creacion  \\\n",
       "97  2024-01-23 17:47:07.4339209  2024-08-23 07:11:00.0000000   \n",
       "\n",
       "     fecha_de_ultima_modificacion version  identificador_requerimiento_compra  \\\n",
       "97  2024-08-22 03:57:04.210489000      22                    CO1.PPI.33791627   \n",
       "\n",
       "       estado departamento_paa municipio_paa  \n",
       "97  PUBLICADO  VALLE DEL CAUCA          CALI  \n",
       "\n",
       "[1 rows x 21 columns]"
      ]
     },
     "execution_count": 432,
     "metadata": {},
     "output_type": "execute_result"
    }
   ],
   "source": [
    "limpieza_str (df2,'identificador_unico')\n",
    "limpieza_str (df2,'id_plan_anual_de_adquisiciones')\n",
    "limpieza_str (df2,'nit_entidad')\n",
    "limpieza_str (df2,'nombre_entidad')\n",
    "limpieza_str (df2,'mision_vision')\n",
    "limpieza_str (df2,'perspectiva_estrategica')\n",
    "limpieza_str (df2,'nombre_contacto')\n",
    "limpieza_str (df2,'telefono_contacto')\n",
    "limpieza_str (df2,'correo_contacto')\n",
    "limpieza_str (df2,'valor_presupuesto_general')\n",
    "limpieza_str (df2,'presupuesto_menor_cuantia')\n",
    "limpieza_str (df2,'presupuesto_minima_cuantia')\n",
    "limpieza_str (df2,'identificador_requerimiento_compra')\n",
    "limpieza_str (df2,'estado')\n",
    "limpieza_str (df2,'departamento_paa')\n",
    "limpieza_str (df2,'municipio_paa')\n",
    "df2.sample(1)"
   ]
  },
  {
   "cell_type": "markdown",
   "id": "bdb2952b-8736-416c-9e6c-b5a4f814a932",
   "metadata": {},
   "source": [
    "## 6. Limpieza Numerica"
   ]
  },
  {
   "cell_type": "markdown",
   "id": "6667301b-c584-446a-b5e1-30bee96824f3",
   "metadata": {},
   "source": [
    "### 6.1 Transformar variables object a float y eliminar nulos"
   ]
  },
  {
   "cell_type": "markdown",
   "id": "b86094ab-937e-4705-a307-0733c12531a7",
   "metadata": {},
   "source": [
    "#### Dataframe df1"
   ]
  },
  {
   "cell_type": "code",
   "execution_count": 551,
   "id": "ea539d8d-7792-49fa-8e4e-e024525d960a",
   "metadata": {},
   "outputs": [
    {
     "name": "stdout",
     "output_type": "stream",
     "text": [
      "['identificador_paa', 'codigo_entidad', 'nit_entidad', 'anno_paa', 'ppto_total', 'limite_menor_cuantia', 'limite_minima_cuantia', 'codigo_municipio']\n"
     ]
    }
   ],
   "source": [
    "#Transformar todo lo que no sea númerico a NaN, de esta manera convertir la variable a float\n",
    "\n",
    "#nit_entidad\n",
    "df1['nit_entidad'] = pd.to_numeric(df1['nit_entidad'], errors='coerce')\n",
    "df1['nit_entidad']= df1['nit_entidad'].astype(int)\n",
    "\n",
    "#ppto_total\n",
    "df1['ppto_total'] = pd.to_numeric(df1['ppto_total'], errors='coerce')\n",
    "df1['ppto_total']= df1['ppto_total'].astype(int)\n",
    "\n",
    "#limite_menor_cuantia\n",
    "df1['limite_menor_cuantia'] = pd.to_numeric(df1['limite_menor_cuantia'], errors='coerce')\n",
    "df1['limite_menor_cuantia']= df1['limite_menor_cuantia'].astype(int)\n",
    "\n",
    "#limite_minima_cuantia\n",
    "df1['limite_minima_cuantia'] = pd.to_numeric(df1['limite_minima_cuantia'], errors='coerce')\n",
    "df1['limite_minima_cuantia']= df1['limite_minima_cuantia'].astype(int)\n",
    "\n",
    "#Verificar columnas tipo numerico df1\n",
    "columnas_str3 = df1.select_dtypes(include=['int']).columns.tolist()\n",
    "print(columnas_str3)"
   ]
  },
  {
   "cell_type": "code",
   "execution_count": 553,
   "id": "410da4ee-a855-4846-880e-3f7ee73aaab6",
   "metadata": {},
   "outputs": [
    {
     "data": {
      "text/plain": [
       "identificador_paa             0\n",
       "codigo_entidad                0\n",
       "nombre_entidad                0\n",
       "nit_entidad                   0\n",
       "anno_paa                      0\n",
       "direccion_entidad             0\n",
       "telefono_entidad              0\n",
       "mision_y_vision               0\n",
       "perspectiva_estrategica       0\n",
       "info_contacto                 0\n",
       "ppto_total                    0\n",
       "limite_menor_cuantia          0\n",
       "limite_minima_cuantia         0\n",
       "fecha_ultima_actualizacion    0\n",
       "fecha_cargue                  0\n",
       "municipio_paa                 0\n",
       "departamento_paa              0\n",
       "localidad_paa                 0\n",
       "codigo_municipio              0\n",
       "dtype: int64"
      ]
     },
     "metadata": {},
     "output_type": "display_data"
    }
   ],
   "source": [
    "#Mostrar valores nulos por cada columna\n",
    "display(df1.isnull().sum())\n",
    "#Eliminar los valores nuloa\n",
    "df1 = df1.dropna()"
   ]
  },
  {
   "cell_type": "markdown",
   "id": "6923b3df-ff18-4bb0-a2d4-fdc25568f98b",
   "metadata": {},
   "source": [
    "#### Dataframe df2"
   ]
  },
  {
   "cell_type": "code",
   "execution_count": 563,
   "id": "03f0a44c-df20-49ce-b831-2f53e7186bc1",
   "metadata": {},
   "outputs": [
    {
     "name": "stdout",
     "output_type": "stream",
     "text": [
      "['anno', 'nit_entidad', 'valor_presupuesto_general', 'presupuesto_menor_cuantia', 'presupuesto_minima_cuantia', 'version']\n"
     ]
    }
   ],
   "source": [
    "#Transformar todo lo que no sea númerico a NaN, de esta manera convertir la variable a float\n",
    "#nit_entidad\n",
    "df2['nit_entidad'] = pd.to_numeric(df2['nit_entidad'], errors='coerce')\n",
    "df2['nit_entidad']= df2['nit_entidad'].astype(int)\n",
    "\n",
    "#nit_entidad\n",
    "df2['valor_presupuesto_general'] = pd.to_numeric(df2['valor_presupuesto_general'], errors='coerce')\n",
    "df2['valor_presupuesto_general']= df2['valor_presupuesto_general'].astype(int)\n",
    "\n",
    "df2['presupuesto_menor_cuantia'] = pd.to_numeric(df2['presupuesto_menor_cuantia'], errors='coerce')\n",
    "df2['presupuesto_menor_cuantia']= df2['presupuesto_menor_cuantia'].astype(int)\n",
    "\n",
    "df2['presupuesto_minima_cuantia'] = pd.to_numeric(df2['presupuesto_minima_cuantia'], errors='coerce')\n",
    "df2['presupuesto_minima_cuantia']= df2['presupuesto_minima_cuantia'].astype(int)\n",
    "\n",
    "columnas_str4 = df2.select_dtypes(include=['int']).columns.tolist()\n",
    "print(columnas_str4)"
   ]
  },
  {
   "cell_type": "code",
   "execution_count": 565,
   "id": "0bfa734b-7ea5-455d-9766-49827923be6b",
   "metadata": {},
   "outputs": [
    {
     "data": {
      "text/plain": [
       "identificador_unico                   0\n",
       "id_plan_anual_de_adquisiciones        0\n",
       "anno                                  0\n",
       "nit_entidad                           0\n",
       "nombre_entidad                        0\n",
       "mision_vision                         0\n",
       "perspectiva_estrategica               0\n",
       "nombre_contacto                       0\n",
       "telefono_contacto                     0\n",
       "correo_contacto                       0\n",
       "valor_presupuesto_general             0\n",
       "presupuesto_menor_cuantia             0\n",
       "presupuesto_minima_cuantia            0\n",
       "fecha_de_publicacion                  0\n",
       "fecha_de_creacion                     0\n",
       "fecha_de_ultima_modificacion          0\n",
       "version                               0\n",
       "identificador_requerimiento_compra    0\n",
       "estado                                0\n",
       "departamento_paa                      0\n",
       "municipio_paa                         0\n",
       "dtype: int64"
      ]
     },
     "metadata": {},
     "output_type": "display_data"
    }
   ],
   "source": [
    "#Mostrar valores nulos por cada columna\n",
    "display(df2.isnull().sum())\n",
    "#Eliminar los valores nulos\n",
    "df2 = df2.dropna()"
   ]
  },
  {
   "cell_type": "markdown",
   "id": "32b09e27-cac6-4eab-a804-12b7ec8e2958",
   "metadata": {},
   "source": [
    "### 6.2 Crear una función de limpieza numerica"
   ]
  },
  {
   "cell_type": "code",
   "execution_count": 571,
   "id": "0c32a40a-67bd-4f4d-a92d-09dff7b71443",
   "metadata": {},
   "outputs": [],
   "source": [
    "#Crear una función para limpieza de las variables númericas aplicando replace ()\n",
    "def limpieza_numerica (df: pd.DataFrame, column_name:int):\n",
    "    df[column_name] = df[column_name].replace(\"  \",\"\")\n",
    "    df[column_name] = df[column_name].replace('','0')\n",
    "    df[column_name] = df[column_name].replace('[^\\\\d\\\\.]','',regex=True)\n",
    "    return df"
   ]
  },
  {
   "cell_type": "markdown",
   "id": "631a13e7-0b09-45b8-ada1-2ad41056fc42",
   "metadata": {},
   "source": [
    "#### Dataframe df1"
   ]
  },
  {
   "cell_type": "code",
   "execution_count": 573,
   "id": "93360267-32a2-4d4c-9f12-de8f199103d7",
   "metadata": {},
   "outputs": [
    {
     "data": {
      "text/html": [
       "<div>\n",
       "<style scoped>\n",
       "    .dataframe tbody tr th:only-of-type {\n",
       "        vertical-align: middle;\n",
       "    }\n",
       "\n",
       "    .dataframe tbody tr th {\n",
       "        vertical-align: top;\n",
       "    }\n",
       "\n",
       "    .dataframe thead th {\n",
       "        text-align: right;\n",
       "    }\n",
       "</style>\n",
       "<table border=\"1\" class=\"dataframe\">\n",
       "  <thead>\n",
       "    <tr style=\"text-align: right;\">\n",
       "      <th></th>\n",
       "      <th>identificador_paa</th>\n",
       "      <th>codigo_entidad</th>\n",
       "      <th>nombre_entidad</th>\n",
       "      <th>nit_entidad</th>\n",
       "      <th>anno_paa</th>\n",
       "      <th>direccion_entidad</th>\n",
       "      <th>telefono_entidad</th>\n",
       "      <th>mision_y_vision</th>\n",
       "      <th>perspectiva_estrategica</th>\n",
       "      <th>info_contacto</th>\n",
       "      <th>ppto_total</th>\n",
       "      <th>limite_menor_cuantia</th>\n",
       "      <th>limite_minima_cuantia</th>\n",
       "      <th>fecha_ultima_actualizacion</th>\n",
       "      <th>fecha_cargue</th>\n",
       "      <th>municipio_paa</th>\n",
       "      <th>departamento_paa</th>\n",
       "      <th>localidad_paa</th>\n",
       "      <th>codigo_municipio</th>\n",
       "    </tr>\n",
       "  </thead>\n",
       "  <tbody>\n",
       "    <tr>\n",
       "      <th>930</th>\n",
       "      <td>313854</td>\n",
       "      <td>268720011</td>\n",
       "      <td>SANTANDER  ALCALDA MUNICIPIO DE SANTA HELENA D...</td>\n",
       "      <td>800099832</td>\n",
       "      <td>2022</td>\n",
       "      <td>CARRERA 4 N 3  40</td>\n",
       "      <td>3143183787</td>\n",
       "      <td>MISION                                        ...</td>\n",
       "      <td>ES EL CUMPLIMIENTO DE LOS  OBJETIVOS ESTRATGIC...</td>\n",
       "      <td>DIEGO ALBERTO MENESES MOLINAEMAIL ALCALDIASANT...</td>\n",
       "      <td>1079500000</td>\n",
       "      <td>280000000</td>\n",
       "      <td>28000000</td>\n",
       "      <td>1/28/22</td>\n",
       "      <td>2022-02-15T04:30:42.000</td>\n",
       "      <td>SANTA HELENA DEL OPON</td>\n",
       "      <td>SANTANDER</td>\n",
       "      <td>PLAN UNICO</td>\n",
       "      <td>68720</td>\n",
       "    </tr>\n",
       "  </tbody>\n",
       "</table>\n",
       "</div>"
      ],
      "text/plain": [
       "     identificador_paa  codigo_entidad  \\\n",
       "930             313854       268720011   \n",
       "\n",
       "                                        nombre_entidad  nit_entidad  anno_paa  \\\n",
       "930  SANTANDER  ALCALDA MUNICIPIO DE SANTA HELENA D...    800099832      2022   \n",
       "\n",
       "     direccion_entidad telefono_entidad  \\\n",
       "930  CARRERA 4 N 3  40       3143183787   \n",
       "\n",
       "                                       mision_y_vision  \\\n",
       "930  MISION                                        ...   \n",
       "\n",
       "                               perspectiva_estrategica  \\\n",
       "930  ES EL CUMPLIMIENTO DE LOS  OBJETIVOS ESTRATGIC...   \n",
       "\n",
       "                                         info_contacto  ppto_total  \\\n",
       "930  DIEGO ALBERTO MENESES MOLINAEMAIL ALCALDIASANT...  1079500000   \n",
       "\n",
       "     limite_menor_cuantia  limite_minima_cuantia fecha_ultima_actualizacion  \\\n",
       "930             280000000               28000000                    1/28/22   \n",
       "\n",
       "                fecha_cargue          municipio_paa departamento_paa  \\\n",
       "930  2022-02-15T04:30:42.000  SANTA HELENA DEL OPON        SANTANDER   \n",
       "\n",
       "    localidad_paa  codigo_municipio  \n",
       "930    PLAN UNICO             68720  "
      ]
     },
     "execution_count": 573,
     "metadata": {},
     "output_type": "execute_result"
    }
   ],
   "source": [
    "#Aplicar limpieza_numerica en df1\n",
    "limpieza_numerica (df1,'identificador_paa')\n",
    "limpieza_numerica (df1,'codigo_entidad')\n",
    "limpieza_numerica (df1,'nit_entidad')\n",
    "limpieza_numerica (df1,'anno_paa')\n",
    "limpieza_numerica (df1,'ppto_total')\n",
    "limpieza_numerica (df1,'limite_menor_cuantia')\n",
    "limpieza_numerica (df1,'limite_minima_cuantia')\n",
    "limpieza_numerica (df1, 'codigo_municipio')\n",
    "df1.sample()"
   ]
  },
  {
   "cell_type": "markdown",
   "id": "c0d69eb3-9112-4af8-9f3a-e749cbba5ccf",
   "metadata": {},
   "source": [
    "#### Dataframe df2"
   ]
  },
  {
   "cell_type": "code",
   "execution_count": 580,
   "id": "0a8bab19-54d5-4cd2-abff-b6361d6f1e68",
   "metadata": {},
   "outputs": [
    {
     "data": {
      "text/html": [
       "<div>\n",
       "<style scoped>\n",
       "    .dataframe tbody tr th:only-of-type {\n",
       "        vertical-align: middle;\n",
       "    }\n",
       "\n",
       "    .dataframe tbody tr th {\n",
       "        vertical-align: top;\n",
       "    }\n",
       "\n",
       "    .dataframe thead th {\n",
       "        text-align: right;\n",
       "    }\n",
       "</style>\n",
       "<table border=\"1\" class=\"dataframe\">\n",
       "  <thead>\n",
       "    <tr style=\"text-align: right;\">\n",
       "      <th></th>\n",
       "      <th>identificador_unico</th>\n",
       "      <th>id_plan_anual_de_adquisiciones</th>\n",
       "      <th>anno</th>\n",
       "      <th>nit_entidad</th>\n",
       "      <th>nombre_entidad</th>\n",
       "      <th>mision_vision</th>\n",
       "      <th>perspectiva_estrategica</th>\n",
       "      <th>nombre_contacto</th>\n",
       "      <th>telefono_contacto</th>\n",
       "      <th>correo_contacto</th>\n",
       "      <th>...</th>\n",
       "      <th>presupuesto_menor_cuantia</th>\n",
       "      <th>presupuesto_minima_cuantia</th>\n",
       "      <th>fecha_de_publicacion</th>\n",
       "      <th>fecha_de_creacion</th>\n",
       "      <th>fecha_de_ultima_modificacion</th>\n",
       "      <th>version</th>\n",
       "      <th>identificador_requerimiento_compra</th>\n",
       "      <th>estado</th>\n",
       "      <th>departamento_paa</th>\n",
       "      <th>municipio_paa</th>\n",
       "    </tr>\n",
       "  </thead>\n",
       "  <tbody>\n",
       "    <tr>\n",
       "      <th>362</th>\n",
       "      <td>CO1.APP.2041349</td>\n",
       "      <td>MARKETPLACECO1538290</td>\n",
       "      <td>2024</td>\n",
       "      <td>702886201</td>\n",
       "      <td>ALCALDIA MUNICIPAL DE MIRAFLORES BOYACA</td>\n",
       "      <td>MISIN UN MUNICIPIO COMPROMETIDO CON EL DESARRO...</td>\n",
       "      <td>NO DEFINIDO</td>\n",
       "      <td>NATHALY ALVAREZ GOMEZ</td>\n",
       "      <td>3152435354</td>\n",
       "      <td>NATHALYALVAREZGOMEZ20GMAIL.COM</td>\n",
       "      <td>...</td>\n",
       "      <td>364000000</td>\n",
       "      <td>36400000</td>\n",
       "      <td>2024-01-13 03:53:19.2669100</td>\n",
       "      <td>2024-08-23 07:11:00.0000000</td>\n",
       "      <td>2024-08-22 19:48:40.383477200</td>\n",
       "      <td>250</td>\n",
       "      <td>CO1.PPI.33805100</td>\n",
       "      <td>NO ESPECIFICADO</td>\n",
       "      <td>BOYACA</td>\n",
       "      <td>MIRAFLORES</td>\n",
       "    </tr>\n",
       "  </tbody>\n",
       "</table>\n",
       "<p>1 rows × 21 columns</p>\n",
       "</div>"
      ],
      "text/plain": [
       "    identificador_unico id_plan_anual_de_adquisiciones  anno  nit_entidad  \\\n",
       "362     CO1.APP.2041349           MARKETPLACECO1538290  2024    702886201   \n",
       "\n",
       "                              nombre_entidad  \\\n",
       "362  ALCALDIA MUNICIPAL DE MIRAFLORES BOYACA   \n",
       "\n",
       "                                         mision_vision  \\\n",
       "362  MISIN UN MUNICIPIO COMPROMETIDO CON EL DESARRO...   \n",
       "\n",
       "    perspectiva_estrategica        nombre_contacto telefono_contacto  \\\n",
       "362             NO DEFINIDO  NATHALY ALVAREZ GOMEZ        3152435354   \n",
       "\n",
       "                    correo_contacto  ...  presupuesto_menor_cuantia  \\\n",
       "362  NATHALYALVAREZGOMEZ20GMAIL.COM  ...                  364000000   \n",
       "\n",
       "     presupuesto_minima_cuantia         fecha_de_publicacion  \\\n",
       "362                    36400000  2024-01-13 03:53:19.2669100   \n",
       "\n",
       "               fecha_de_creacion   fecha_de_ultima_modificacion version  \\\n",
       "362  2024-08-23 07:11:00.0000000  2024-08-22 19:48:40.383477200     250   \n",
       "\n",
       "     identificador_requerimiento_compra           estado departamento_paa  \\\n",
       "362                    CO1.PPI.33805100  NO ESPECIFICADO           BOYACA   \n",
       "\n",
       "    municipio_paa  \n",
       "362    MIRAFLORES  \n",
       "\n",
       "[1 rows x 21 columns]"
      ]
     },
     "execution_count": 580,
     "metadata": {},
     "output_type": "execute_result"
    }
   ],
   "source": [
    "#['anno', 'nit_entidad', 'valor_presupuesto_general', 'presupuesto_menor_cuantia', 'presupuesto_minima_cuantia', 'version']\n",
    "#Aplicar limpieza_numerica en df2\n",
    "limpieza_numerica (df2,'anno')\n",
    "limpieza_numerica (df2,'nit_entidad')\n",
    "limpieza_numerica (df2,'valor_presupuesto_general')\n",
    "limpieza_numerica (df2,'presupuesto_menor_cuantia')\n",
    "limpieza_numerica (df2,'presupuesto_minima_cuantia')\n",
    "limpieza_numerica (df2,'version')\n",
    "df2.sample()"
   ]
  },
  {
   "attachments": {},
   "cell_type": "markdown",
   "id": "e47af64f-b2dc-41d4-8fe7-bb8f2b33f25e",
   "metadata": {},
   "source": [
    "## 7. Unificar bases de datos SECOP I y SECOP II\n",
    "\n",
    "Con el fin de concatenar las bases df1 y df2, seleccionaremos de cada DataFrame las columnas que se desean analizar,  \n",
    "\n",
    "Se excluyen del análisis las siguientes variables están en **SECOPI** pero no en **SECOPII**:  \n",
    "[codigo_entidad, direccion_entidad, telefono_entidad, localidad_paa, codigo_municipio]  \n",
    "\n",
    "De igual forma, las variables relacionadas a continuación están en **SECOPII** pero no en **SECOPI**:\n",
    "[id_plan_anual_de_adquisiciones, fecha_de_publicacion, version, identificador_requerimiento_compra, estado]\n",
    "\n",
    "\r",
    "\r\n"
   ]
  },
  {
   "cell_type": "markdown",
   "id": "1821a7e5-8594-4629-8b4b-7118fd66e519",
   "metadata": {},
   "source": [
    "### 7.1 Unificar en una sola columna la información de contacto de SECOPII"
   ]
  },
  {
   "cell_type": "code",
   "execution_count": 607,
   "id": "ab434a44-d298-4b37-a424-92ca1703f7e4",
   "metadata": {},
   "outputs": [
    {
     "data": {
      "text/plain": [
       "0    MARIA EUGENIA LEDESMA LLANTEN-3104661182-MARIA...\n",
       "1    RAFAEL BASTIDAS SANCHEZ-3136820189-RAFABASTIDA...\n",
       "2    JULIAN DAVID OLIVEROS SERRANO-8572013-COMPRASL...\n",
       "3    CARLOS FERNANDO GERMAN CALAO-3127695263-CARLOS...\n",
       "4    CRISTINA HOLGUIN GRISALES-3223001245-ALMACENLA...\n",
       "Name: info_contacto2, dtype: object"
      ]
     },
     "execution_count": 607,
     "metadata": {},
     "output_type": "execute_result"
    }
   ],
   "source": [
    "\n",
    "df2['info_contacto2']=df2[['nombre_contacto','telefono_contacto','correo_contacto']].agg('-'.join,axis=1)\n",
    "df2['info_contacto2'].head()\n"
   ]
  },
  {
   "cell_type": "markdown",
   "id": "f85baf95-f1cf-4d60-9115-b3c2169f39ac",
   "metadata": {},
   "source": [
    "### 7.2 Definir dos nuevos DataFrame que contengan únicamente las 13 variables a analizar\n"
   ]
  },
  {
   "cell_type": "code",
   "execution_count": 677,
   "id": "ecd095a1-be8c-41ba-9fed-c92c47a9787e",
   "metadata": {},
   "outputs": [],
   "source": [
    "\n",
    "Df1 = df1[['identificador_paa','nombre_entidad','nit_entidad','anno_paa','mision_y_vision','perspectiva_estrategica','info_contacto','ppto_total',\n",
    "'limite_menor_cuantia','limite_minima_cuantia','fecha_ultima_actualizacion','fecha_cargue','municipio_paa','departamento_paa']]\n",
    "\n",
    "Df2 = df2[['identificador_unico','nombre_entidad','nit_entidad','anno','mision_vision','perspectiva_estrategica','info_contacto2','valor_presupuesto_general',\n",
    "'presupuesto_menor_cuantia','presupuesto_minima_cuantia','fecha_de_ultima_modificacion','fecha_de_publicacion','municipio_paa','departamento_paa']]\n",
    "\n",
    "#df = df.rename(columns={'A': 'Columna1', 'B': 'Columna2'})\n",
    "Df2 = Df2.rename(columns={'identificador_unico':'identificador_paa','nombre_entidad':'nombre_entidad','nit_entidad':'nit_entidad','anno':'anno_paa','mision_vision':'mision_y_vision','perspectiva_estrategica':'perspectiva_estrategica','info_contacto2':'info_contacto','valor_presupuesto_general':'ppto_total',\n",
    "    'presupuesto_menor_cuantia':'limite_menor_cuantia','presupuesto_minima_cuantia':'limite_minima_cuantia','fecha_de_ultima_modificacion':'fecha_ultima_actualizacion','fecha_de_publicacion':'fecha_cargue','municipio_paa':'municipio_paa','departamento_paa':'departamento_paa'})\n",
    "     "
   ]
  },
  {
   "cell_type": "markdown",
   "id": "b0b3c3e4-4499-41b4-b076-8839a16e2647",
   "metadata": {},
   "source": [
    "### 7.3 Concatenar los DataFrame Df1 y Df2"
   ]
  },
  {
   "cell_type": "code",
   "execution_count": 679,
   "id": "dc015523-9040-496c-b387-0e54efa5ab4b",
   "metadata": {},
   "outputs": [
    {
     "data": {
      "text/html": [
       "<div>\n",
       "<style scoped>\n",
       "    .dataframe tbody tr th:only-of-type {\n",
       "        vertical-align: middle;\n",
       "    }\n",
       "\n",
       "    .dataframe tbody tr th {\n",
       "        vertical-align: top;\n",
       "    }\n",
       "\n",
       "    .dataframe thead th {\n",
       "        text-align: right;\n",
       "    }\n",
       "</style>\n",
       "<table border=\"1\" class=\"dataframe\">\n",
       "  <thead>\n",
       "    <tr style=\"text-align: right;\">\n",
       "      <th></th>\n",
       "      <th>identificador_paa</th>\n",
       "      <th>nombre_entidad</th>\n",
       "      <th>nit_entidad</th>\n",
       "      <th>anno_paa</th>\n",
       "      <th>mision_y_vision</th>\n",
       "      <th>perspectiva_estrategica</th>\n",
       "      <th>info_contacto</th>\n",
       "      <th>ppto_total</th>\n",
       "      <th>limite_menor_cuantia</th>\n",
       "      <th>limite_minima_cuantia</th>\n",
       "      <th>fecha_ultima_actualizacion</th>\n",
       "      <th>fecha_cargue</th>\n",
       "      <th>municipio_paa</th>\n",
       "      <th>departamento_paa</th>\n",
       "    </tr>\n",
       "  </thead>\n",
       "  <tbody>\n",
       "    <tr>\n",
       "      <th>1</th>\n",
       "      <td>294652</td>\n",
       "      <td>ANTIOQUIA  INSTITUCIN EDUCATIVA DBORA ARANGO P...</td>\n",
       "      <td>900196642</td>\n",
       "      <td>2022</td>\n",
       "      <td>MISION LA INSTITUCIN EDUCATIVA DBORA ARANGO DE...</td>\n",
       "      <td>DIRECCIONAR LA INSTITUCIN PARA EL LOGRO DEL HO...</td>\n",
       "      <td>CARLOS ENRIQUE ROJAS SANCHEZ</td>\n",
       "      <td>84026639</td>\n",
       "      <td>0</td>\n",
       "      <td>20000000</td>\n",
       "      <td>12/1/21</td>\n",
       "      <td>2022-01-26T09:43:07.000</td>\n",
       "      <td>MEDELLIN</td>\n",
       "      <td>ANTIOQUIA</td>\n",
       "    </tr>\n",
       "  </tbody>\n",
       "</table>\n",
       "</div>"
      ],
      "text/plain": [
       "   identificador_paa                                     nombre_entidad  \\\n",
       "1             294652  ANTIOQUIA  INSTITUCIN EDUCATIVA DBORA ARANGO P...   \n",
       "\n",
       "   nit_entidad  anno_paa                                    mision_y_vision  \\\n",
       "1    900196642      2022  MISION LA INSTITUCIN EDUCATIVA DBORA ARANGO DE...   \n",
       "\n",
       "                             perspectiva_estrategica  \\\n",
       "1  DIRECCIONAR LA INSTITUCIN PARA EL LOGRO DEL HO...   \n",
       "\n",
       "                  info_contacto  ppto_total  limite_menor_cuantia  \\\n",
       "1  CARLOS ENRIQUE ROJAS SANCHEZ    84026639                     0   \n",
       "\n",
       "   limite_minima_cuantia fecha_ultima_actualizacion             fecha_cargue  \\\n",
       "1               20000000                    12/1/21  2022-01-26T09:43:07.000   \n",
       "\n",
       "  municipio_paa departamento_paa  \n",
       "1      MEDELLIN        ANTIOQUIA  "
      ]
     },
     "execution_count": 679,
     "metadata": {},
     "output_type": "execute_result"
    }
   ],
   "source": [
    "Df1.head(1)"
   ]
  },
  {
   "cell_type": "code",
   "execution_count": 681,
   "id": "9e2f7c33-8213-4b5d-9f15-dbf8124b0608",
   "metadata": {},
   "outputs": [
    {
     "data": {
      "text/plain": [
       "(705, 14)"
      ]
     },
     "execution_count": 681,
     "metadata": {},
     "output_type": "execute_result"
    }
   ],
   "source": [
    "Df1.shape"
   ]
  },
  {
   "cell_type": "code",
   "execution_count": 683,
   "id": "8d827629-c3a1-4b6f-971e-045398971785",
   "metadata": {},
   "outputs": [
    {
     "data": {
      "text/html": [
       "<div>\n",
       "<style scoped>\n",
       "    .dataframe tbody tr th:only-of-type {\n",
       "        vertical-align: middle;\n",
       "    }\n",
       "\n",
       "    .dataframe tbody tr th {\n",
       "        vertical-align: top;\n",
       "    }\n",
       "\n",
       "    .dataframe thead th {\n",
       "        text-align: right;\n",
       "    }\n",
       "</style>\n",
       "<table border=\"1\" class=\"dataframe\">\n",
       "  <thead>\n",
       "    <tr style=\"text-align: right;\">\n",
       "      <th></th>\n",
       "      <th>identificador_paa</th>\n",
       "      <th>nombre_entidad</th>\n",
       "      <th>nit_entidad</th>\n",
       "      <th>anno_paa</th>\n",
       "      <th>mision_y_vision</th>\n",
       "      <th>perspectiva_estrategica</th>\n",
       "      <th>info_contacto</th>\n",
       "      <th>ppto_total</th>\n",
       "      <th>limite_menor_cuantia</th>\n",
       "      <th>limite_minima_cuantia</th>\n",
       "      <th>fecha_ultima_actualizacion</th>\n",
       "      <th>fecha_cargue</th>\n",
       "      <th>municipio_paa</th>\n",
       "      <th>departamento_paa</th>\n",
       "    </tr>\n",
       "  </thead>\n",
       "  <tbody>\n",
       "    <tr>\n",
       "      <th>0</th>\n",
       "      <td>CO1.APP.2041264</td>\n",
       "      <td>INSTITUCION EDUCATIVA AGROPECUARIA MAXIMO GOMEZ</td>\n",
       "      <td>721520377</td>\n",
       "      <td>2024</td>\n",
       "      <td>MISION 2023 2026 LA INSTITUCIN EDUCATIVA AGROP...</td>\n",
       "      <td>SER UNA INSTITUCIN DESTACADA POR SUS ESTRATEGI...</td>\n",
       "      <td>MARIA EUGENIA LEDESMA LLANTEN-3104661182-MARIA...</td>\n",
       "      <td>98097506</td>\n",
       "      <td>26000000</td>\n",
       "      <td>2600000</td>\n",
       "      <td>2024-08-22 20:32:26.391947400</td>\n",
       "      <td>2024-07-31 03:47:42.6041815</td>\n",
       "      <td>CAJIBIO</td>\n",
       "      <td>CAUCA</td>\n",
       "    </tr>\n",
       "  </tbody>\n",
       "</table>\n",
       "</div>"
      ],
      "text/plain": [
       "  identificador_paa                                   nombre_entidad  \\\n",
       "0   CO1.APP.2041264  INSTITUCION EDUCATIVA AGROPECUARIA MAXIMO GOMEZ   \n",
       "\n",
       "   nit_entidad  anno_paa                                    mision_y_vision  \\\n",
       "0    721520377      2024  MISION 2023 2026 LA INSTITUCIN EDUCATIVA AGROP...   \n",
       "\n",
       "                             perspectiva_estrategica  \\\n",
       "0  SER UNA INSTITUCIN DESTACADA POR SUS ESTRATEGI...   \n",
       "\n",
       "                                       info_contacto  ppto_total  \\\n",
       "0  MARIA EUGENIA LEDESMA LLANTEN-3104661182-MARIA...    98097506   \n",
       "\n",
       "   limite_menor_cuantia  limite_minima_cuantia     fecha_ultima_actualizacion  \\\n",
       "0              26000000                2600000  2024-08-22 20:32:26.391947400   \n",
       "\n",
       "                  fecha_cargue municipio_paa departamento_paa  \n",
       "0  2024-07-31 03:47:42.6041815       CAJIBIO            CAUCA  "
      ]
     },
     "execution_count": 683,
     "metadata": {},
     "output_type": "execute_result"
    }
   ],
   "source": [
    "Df2.head(1)"
   ]
  },
  {
   "cell_type": "code",
   "execution_count": 644,
   "id": "3db9b3e4-745f-43c7-8db5-31186a6c06bb",
   "metadata": {},
   "outputs": [
    {
     "data": {
      "text/plain": [
       "(997, 14)"
      ]
     },
     "execution_count": 644,
     "metadata": {},
     "output_type": "execute_result"
    }
   ],
   "source": [
    "Df2.shape"
   ]
  },
  {
   "cell_type": "code",
   "execution_count": 691,
   "id": "9bd84fdf-dc54-4c5f-9749-b34c56d2e110",
   "metadata": {},
   "outputs": [
    {
     "data": {
      "text/html": [
       "<div>\n",
       "<style scoped>\n",
       "    .dataframe tbody tr th:only-of-type {\n",
       "        vertical-align: middle;\n",
       "    }\n",
       "\n",
       "    .dataframe tbody tr th {\n",
       "        vertical-align: top;\n",
       "    }\n",
       "\n",
       "    .dataframe thead th {\n",
       "        text-align: right;\n",
       "    }\n",
       "</style>\n",
       "<table border=\"1\" class=\"dataframe\">\n",
       "  <thead>\n",
       "    <tr style=\"text-align: right;\">\n",
       "      <th></th>\n",
       "      <th>identificador_paa</th>\n",
       "      <th>nombre_entidad</th>\n",
       "      <th>nit_entidad</th>\n",
       "      <th>anno_paa</th>\n",
       "      <th>mision_y_vision</th>\n",
       "      <th>perspectiva_estrategica</th>\n",
       "      <th>info_contacto</th>\n",
       "      <th>ppto_total</th>\n",
       "      <th>limite_menor_cuantia</th>\n",
       "      <th>limite_minima_cuantia</th>\n",
       "      <th>fecha_ultima_actualizacion</th>\n",
       "      <th>fecha_cargue</th>\n",
       "      <th>municipio_paa</th>\n",
       "      <th>departamento_paa</th>\n",
       "    </tr>\n",
       "  </thead>\n",
       "  <tbody>\n",
       "    <tr>\n",
       "      <th>79</th>\n",
       "      <td>270473</td>\n",
       "      <td>VALLE DEL CAUCA  ALCALDA LOCAL CONTINENTE EL P...</td>\n",
       "      <td>901070157</td>\n",
       "      <td>2021</td>\n",
       "      <td>MISIONLA LOCALIDAD CONTINENTE EL PAILN GARANTI...</td>\n",
       "      <td>LA ALCALDA LOCAL  CONTINENTE EL PAILON SE COMP...</td>\n",
       "      <td>BLENY DEL CARMEN VALLECILLA SEGURA ALCALDESA L...</td>\n",
       "      <td>-2147483648</td>\n",
       "      <td>254387280</td>\n",
       "      <td>25438728</td>\n",
       "      <td>1/31/21</td>\n",
       "      <td>2021-01-31T03:17:49.000</td>\n",
       "      <td>BUENAVENTURA</td>\n",
       "      <td>VALLE DEL CAUCA</td>\n",
       "    </tr>\n",
       "    <tr>\n",
       "      <th>1637</th>\n",
       "      <td>CO1.APP.1936860</td>\n",
       "      <td>INSTITUCION EDUCATIVA LAGUNITAS</td>\n",
       "      <td>718172836</td>\n",
       "      <td>2024</td>\n",
       "      <td>LA INSTITUCIN EDUCATIVA LAGUNITAS DEL MUNICIPI...</td>\n",
       "      <td>LA INSTITUCIN EDUCATIVA LAGUNITAS SE PROYECTA ...</td>\n",
       "      <td>CARLOS JULIO EUGENIO MEJIA-3202568966-IEL.MOLA...</td>\n",
       "      <td>17955137</td>\n",
       "      <td>260000000</td>\n",
       "      <td>26000000</td>\n",
       "      <td>2024-05-22 18:36:14.492565400</td>\n",
       "      <td>2024-01-24 21:06:47.8957305</td>\n",
       "      <td>MOLAGAVITA</td>\n",
       "      <td>SANTANDER</td>\n",
       "    </tr>\n",
       "  </tbody>\n",
       "</table>\n",
       "</div>"
      ],
      "text/plain": [
       "     identificador_paa                                     nombre_entidad  \\\n",
       "79              270473  VALLE DEL CAUCA  ALCALDA LOCAL CONTINENTE EL P...   \n",
       "1637   CO1.APP.1936860                    INSTITUCION EDUCATIVA LAGUNITAS   \n",
       "\n",
       "      nit_entidad  anno_paa  \\\n",
       "79      901070157      2021   \n",
       "1637    718172836      2024   \n",
       "\n",
       "                                        mision_y_vision  \\\n",
       "79    MISIONLA LOCALIDAD CONTINENTE EL PAILN GARANTI...   \n",
       "1637  LA INSTITUCIN EDUCATIVA LAGUNITAS DEL MUNICIPI...   \n",
       "\n",
       "                                perspectiva_estrategica  \\\n",
       "79    LA ALCALDA LOCAL  CONTINENTE EL PAILON SE COMP...   \n",
       "1637  LA INSTITUCIN EDUCATIVA LAGUNITAS SE PROYECTA ...   \n",
       "\n",
       "                                          info_contacto  ppto_total  \\\n",
       "79    BLENY DEL CARMEN VALLECILLA SEGURA ALCALDESA L... -2147483648   \n",
       "1637  CARLOS JULIO EUGENIO MEJIA-3202568966-IEL.MOLA...    17955137   \n",
       "\n",
       "      limite_menor_cuantia  limite_minima_cuantia  \\\n",
       "79               254387280               25438728   \n",
       "1637             260000000               26000000   \n",
       "\n",
       "         fecha_ultima_actualizacion                 fecha_cargue  \\\n",
       "79                          1/31/21      2021-01-31T03:17:49.000   \n",
       "1637  2024-05-22 18:36:14.492565400  2024-01-24 21:06:47.8957305   \n",
       "\n",
       "     municipio_paa departamento_paa  \n",
       "79    BUENAVENTURA  VALLE DEL CAUCA  \n",
       "1637    MOLAGAVITA        SANTANDER  "
      ]
     },
     "execution_count": 691,
     "metadata": {},
     "output_type": "execute_result"
    }
   ],
   "source": [
    "Df3 = pd.concat([Df1,Df2],axis=0,ignore_index=True)\n",
    "Df3.sample(2)"
   ]
  },
  {
   "cell_type": "code",
   "execution_count": 687,
   "id": "0c6df25a-2ce5-4f01-afde-f5c90a6bc10f",
   "metadata": {},
   "outputs": [
    {
     "data": {
      "text/plain": [
       "(1702, 14)"
      ]
     },
     "execution_count": 687,
     "metadata": {},
     "output_type": "execute_result"
    }
   ],
   "source": [
    "Df3.shape"
   ]
  },
  {
   "cell_type": "markdown",
   "id": "5bbe4b01-8daa-471e-bd46-08296840a8ec",
   "metadata": {},
   "source": [
    "## 7. Variables Exploradas"
   ]
  },
  {
   "cell_type": "markdown",
   "id": "719a18c7-7c57-4f39-ab93-8dd4c10ff25c",
   "metadata": {},
   "source": [
    "# PARTE II"
   ]
  },
  {
   "cell_type": "markdown",
   "id": "e3ff1b89-e20c-44a5-909e-62ad4b0e1ff0",
   "metadata": {},
   "source": [
    "## 1. Filtro de variables"
   ]
  },
  {
   "cell_type": "markdown",
   "id": "1fa8d675-4130-4b90-8fd2-dd14bf30d10a",
   "metadata": {},
   "source": [
    "## 2. Gráficos"
   ]
  },
  {
   "cell_type": "code",
   "execution_count": null,
   "id": "52512229-de72-4fa0-bbe3-63466c625fa7",
   "metadata": {},
   "outputs": [],
   "source": []
  }
 ],
 "metadata": {
  "kernelspec": {
   "display_name": "Python 3 (ipykernel)",
   "language": "python",
   "name": "python3"
  },
  "language_info": {
   "codemirror_mode": {
    "name": "ipython",
    "version": 3
   },
   "file_extension": ".py",
   "mimetype": "text/x-python",
   "name": "python",
   "nbconvert_exporter": "python",
   "pygments_lexer": "ipython3",
   "version": "3.12.4"
  }
 },
 "nbformat": 4,
 "nbformat_minor": 5
}
